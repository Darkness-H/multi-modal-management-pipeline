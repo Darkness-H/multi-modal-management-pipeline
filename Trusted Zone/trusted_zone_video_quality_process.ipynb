{
 "cells": [
  {
   "cell_type": "markdown",
   "id": "a0e60f49-76f8-49b7-8ef6-47bd484f17a4",
   "metadata": {},
   "source": [
    "## Quality Processes for Videos"
   ]
  },
  {
   "cell_type": "code",
   "execution_count": null,
   "id": "37b9b410-78d3-45b8-8e7a-dfe0845779a7",
   "metadata": {},
   "outputs": [],
   "source": [
    "!pip install opencv-python\n",
    "!pip install seaborn"
   ]
  },
  {
   "cell_type": "code",
   "execution_count": null,
   "id": "cf0529e4-afd7-41c7-a763-e42db9719be4",
   "metadata": {},
   "outputs": [],
   "source": [
    "# Importing useful dependencies\n",
    "import io\n",
    "import os\n",
    "import boto3\n",
    "import cv2"
   ]
  },
  {
   "cell_type": "code",
   "execution_count": null,
   "id": "d6ea8040-f916-4676-8426-3e0264e72060",
   "metadata": {},
   "outputs": [],
   "source": [
    "import numpy as np\n",
    "import pandas as pd\n",
    "import seaborn as sns\n",
    "import matplotlib.pyplot as plt"
   ]
  },
  {
   "cell_type": "code",
   "execution_count": null,
   "id": "cac2cf33-4c87-4eb5-9a5d-efa5d2e0db01",
   "metadata": {},
   "outputs": [],
   "source": [
    "# Setup S3 client for MinIO (MinIO implements Amazon S3 API)\n",
    "s3 = boto3.client(\n",
    "    \"s3\",\n",
    "    endpoint_url=\"http://localhost:9000\", # MinIO API endpoint\n",
    "    aws_access_key_id=\"minioadmin\", # User name\n",
    "    aws_secret_access_key=\"minioadmin\", # Password\n",
    ")"
   ]
  },
  {
   "cell_type": "markdown",
   "id": "7f08aa2e-dce1-41e1-929f-44e26ecbcb34",
   "metadata": {},
   "source": [
    "Before preparing/cleaning the data for exploitation zone, we have to perform a quality analysis of the videos stored in the Trusted Zone (Copied from the Formatted Zone). For that purpose, firstly we are going to extract data from each of our videos."
   ]
  },
  {
   "cell_type": "code",
   "execution_count": null,
   "id": "910a4f6b-6e72-438f-a755-3a199b0c52c8",
   "metadata": {},
   "outputs": [],
   "source": [
    "# Given a bucket and a prefix, the function returns a list of data of each video in the target path\n",
    "def get_data_videos(bucket, prefix=\"\"):\n",
    "\n",
    "    data = []\n",
    "    \n",
    "    paginator = s3.get_paginator(\"list_objects_v2\")\n",
    "    for page in paginator.paginate(Bucket=bucket, Prefix=prefix):\n",
    "        for obj in page.get(\"Contents\", []):\n",
    "            \n",
    "            key = obj[\"Key\"]\n",
    "\n",
    "            if obj['Size'] == 0 and key.endswith(\"/\"): # skip the folder itself\n",
    "                continue\n",
    "\n",
    "            # Download the video\n",
    "            resp = s3.get_object(Bucket=bucket, Key=key)\n",
    "            body = resp[\"Body\"].read()\n",
    "\n",
    "            # Use a temporary file to read the video with OpenCV\n",
    "            with open(\"temp_video_in.mp4\", \"wb\") as f:\n",
    "                f.write(body)\n",
    "\n",
    "            cv2.VideoCapture()\n",
    "\n",
    "            cap = cv2.VideoCapture(\"temp_video_in.mp4\")\n",
    "            width = int(cap.get(cv2.CAP_PROP_FRAME_WIDTH))\n",
    "            height = int(cap.get(cv2.CAP_PROP_FRAME_HEIGHT))\n",
    "            \n",
    "            ret, frame = cap.read()\n",
    "            if ret:\n",
    "                n_channels = frame.shape[2] if len(frame.shape) == 3 else 1\n",
    "                mode = 'BGR' if n_channels == 3 else 'GRAY'\n",
    "            else:\n",
    "                n_channels = 0\n",
    "                mode = \"N/A\"\n",
    "\n",
    "            cap.release()\n",
    "            os.remove(\"temp_video_in.mp4\")\n",
    "\n",
    "            data.append({\n",
    "                \"file_name\": key,\n",
    "                \"file_size\": obj['Size'] / 1024, # B -> KB\n",
    "                \"width\": width,\n",
    "                \"height\": height,\n",
    "                \"aspect_ratio\": round(width/height, 2) if height > 0 else None,\n",
    "                \"mode\": mode,\n",
    "                \"channels\": n_channels\n",
    "            })\n",
    "\n",
    "    return data"
   ]
  },
  {
   "cell_type": "code",
   "execution_count": null,
   "id": "3a76516c-2f92-407a-abb2-b325cc72aa38",
   "metadata": {},
   "outputs": [],
   "source": [
    "# Get data from the bucket\n",
    "data = get_data_videos(bucket = \"trusted-zone\", prefix = \"videos\")"
   ]
  },
  {
   "cell_type": "code",
   "execution_count": null,
   "id": "4a2e5054-e316-46c4-b70f-babc0733514d",
   "metadata": {},
   "outputs": [],
   "source": [
    "# Convert the data into a dataFrame\n",
    "df_data = pd.DataFrame(data)\n",
    "df_data.head()"
   ]
  },
  {
   "cell_type": "code",
   "execution_count": null,
   "id": "72fa634d-3be0-4732-b96c-29f565ac3f6e",
   "metadata": {},
   "outputs": [],
   "source": [
    "# Have a quick summary of the data\n",
    "df_data.describe(include=\"all\")"
   ]
  },
  {
   "cell_type": "code",
   "execution_count": null,
   "id": "1b325a3b-5744-400a-9ab2-3e81dc78652e",
   "metadata": {},
   "outputs": [],
   "source": [
    "# Unique values for mode\n",
    "pd.unique(df_data['mode'])"
   ]
  },
  {
   "cell_type": "markdown",
   "id": "dca37e53-a2c5-430f-b69e-4fcfe0f3abed",
   "metadata": {},
   "source": [
    "-- Comment"
   ]
  },
  {
   "cell_type": "markdown",
   "id": "b0047dcd-95af-4b99-a2c0-26e2b381d2b6",
   "metadata": {},
   "source": [
    "**Distribution of File Sizes**"
   ]
  },
  {
   "cell_type": "code",
   "execution_count": null,
   "id": "c8c455d6-93d1-4da0-ab35-2d662506f10b",
   "metadata": {},
   "outputs": [],
   "source": [
    "sns.histplot(df_data[\"file_size\"], bins=50)\n",
    "plt.xlabel(\"File size (KB)\")\n",
    "plt.ylabel(\"Count\")\n",
    "plt.title(\"Distribution of file sizes\")\n",
    "plt.show()"
   ]
  },
  {
   "cell_type": "markdown",
   "id": "f68d432d-4408-49c5-9e87-63c76199f851",
   "metadata": {},
   "source": [
    "-- Comment outliers"
   ]
  },
  {
   "cell_type": "markdown",
   "id": "187ad89c-396b-4617-bef4-ffc04414fdbd",
   "metadata": {},
   "source": [
    "**Width vs Height of Videos**"
   ]
  },
  {
   "cell_type": "code",
   "execution_count": null,
   "id": "10e5ee17-b35c-499d-b865-6d2433234dcd",
   "metadata": {},
   "outputs": [],
   "source": [
    "sns.scatterplot(x=\"width\", y=\"height\", data=df_data, alpha=0.5)\n",
    "plt.xlabel(\"Width (px)\")\n",
    "plt.ylabel(\"Height (px)\")\n",
    "plt.title(\"Width vs Height of Videos\")\n",
    "plt.show()"
   ]
  },
  {
   "cell_type": "markdown",
   "id": "c1c75d96-2fd4-4921-83bb-e20451d05987",
   "metadata": {},
   "source": [
    "-- Comment"
   ]
  },
  {
   "cell_type": "markdown",
   "id": "2f9c571d-473c-4ec5-a34b-d727ee0fb563",
   "metadata": {},
   "source": [
    "**Aspect Ratio Distribution**"
   ]
  },
  {
   "cell_type": "code",
   "execution_count": null,
   "id": "77f34317-15d3-4673-b87b-7c1a33ee4fe5",
   "metadata": {},
   "outputs": [],
   "source": [
    "sns.histplot(df_data[\"aspect_ratio\"].dropna(), bins=50)\n",
    "plt.xlabel(\"Aspect Ratio (W/H)\")\n",
    "plt.title(\"Aspect Ratio Distribution\")\n",
    "plt.show()"
   ]
  },
  {
   "cell_type": "markdown",
   "id": "e4ecd76e-d347-4457-b164-f013a403ba76",
   "metadata": {},
   "source": [
    "**Data Cleaning**"
   ]
  },
  {
   "cell_type": "code",
   "execution_count": null,
   "id": "cd2ac3e2-2396-405b-8ebf-4f9f453d7451",
   "metadata": {},
   "outputs": [],
   "source": [
    "def preprocess_video(bucket, prefix=\"\", target_fps = 30, target_size=(512, 512), segment_minutes = 5):\n",
    "    paginator = s3.get_paginator(\"list_objects_v2\")\n",
    "    for page in paginator.paginate(Bucket=bucket, Prefix=prefix):\n",
    "        for obj in page.get(\"Contents\", []):\n",
    "            key = obj[\"Key\"]\n",
    "\n",
    "            if obj['Size'] == 0 and key.endswith(\"/\"): # skip the folder itself\n",
    "                continue\n",
    "            \n",
    "            # Get object metadata to check size\n",
    "            head = s3.head_object(Bucket=bucket, Key=key)\n",
    "            if head['ContentLength'] == 0:\n",
    "                # Delete the null video (size = 0)\n",
    "                s3.delete_object(Bucket=bucket, Key=key)\n",
    "                continue\n",
    "\n",
    "            # Download the video\n",
    "            resp = s3.get_object(Bucket=bucket, Key=key)\n",
    "            body = resp[\"Body\"].read()\n",
    "            \n",
    "            # Copy video to temp file\n",
    "            in_path = \"temp_video_in.mp4\"\n",
    "            with open(in_path, \"wb\") as f:\n",
    "                f.write(body)\n",
    "\n",
    "            cap = cv2.VideoCapture(in_path)\n",
    "            if not cap.isOpened():\n",
    "                print(f\"Error: Could not open video {key}\")\n",
    "                break\n",
    "            FOURCC = cv2.VideoWriter_fourcc(*'mp4v')\n",
    "            out_path = \"temp_video_out.mp4\"\n",
    "            out = cv2.VideoWriter(out_path, FOURCC, target_fps, target_size)\n",
    "            if not out.isOpened():\n",
    "                print(f\"Error: Could not open VideoWriter for {key}.\")\n",
    "                break\n",
    "\n",
    "\n",
    "            original_fps = cap.get(cv2.CAP_PROP_FPS)\n",
    "            if original_fps == 0:\n",
    "                print(f\"Error: Original FPS is 0. Cannot process {key}\")\n",
    "                break\n",
    "\n",
    "            frame_skip = round(original_fps / target_fps)\n",
    "            if frame_skip < 1:\n",
    "                frame_skip = 1\n",
    "\n",
    "            frame_count = 0\n",
    "            frames_read_count = 0\n",
    "\n",
    "            while cap.isOpened():\n",
    "                ret, frame = cap.read()\n",
    "                if not ret:\n",
    "                    # End of video file\n",
    "                    break\n",
    "        \n",
    "                frames_read_count += 1\n",
    "                # 1. Convert to 30 FPS (Sampling)\n",
    "                if frames_read_count % frame_skip == 0:\n",
    "                    # 2. Resizing\n",
    "                    frame_resized = cv2.resize(frame, target_size, interpolation=cv2.INTER_AREA)\n",
    "                    # Add the processed frame to the current segment\n",
    "                    out.write(frame_resized)\n",
    "                    frame_count += 1\n",
    "\n",
    "            cap.release()\n",
    "            out.release()\n",
    "            cv2.destroyAllWindows()\n",
    "\n",
    "            with open(in_path, \"rb\") as f:\n",
    "                s3.upload_fileobj(f, Bucket=bucket, Key=key, ExtraArgs={\"ContentType\": \"video/mp4\"})\n",
    "            os.remove(in_path)\n",
    "            os.remove(out_path)\n",
    "\n",
    "            print(f\"Normalized: {key}\")"
   ]
  },
  {
   "cell_type": "code",
   "execution_count": null,
   "id": "f29f7299-0d3d-40a8-934b-2f670047ec9b",
   "metadata": {
    "scrolled": true
   },
   "outputs": [],
   "source": [
    "# Standardizing videos\n",
    "preprocess_video(bucket = \"trusted-zone\", prefix = \"videos/\", target_size = (512,512))"
   ]
  },
  {
   "cell_type": "code",
   "execution_count": null,
   "id": "a9da9e27-9eb4-48b0-bb56-a660fdef74de",
   "metadata": {},
   "outputs": [],
   "source": [
    "# Get data from the bucket\n",
    "norm_data = get_data_videos(bucket = \"trusted-zone\", prefix = \"videos\")\n",
    "# Convert the data into a dataFrame\n",
    "df_norm_data = pd.DataFrame(norm_data)\n",
    "df_norm_data.head()\n",
    "# Have a quick summary of the data\n",
    "df_norm_data.describe(include=\"all\")"
   ]
  }
 ],
 "metadata": {
  "kernelspec": {
   "display_name": ".venv",
   "language": "python",
   "name": "python3"
  },
  "language_info": {
   "codemirror_mode": {
    "name": "ipython",
    "version": 3
   },
   "file_extension": ".py",
   "mimetype": "text/x-python",
   "name": "python",
   "nbconvert_exporter": "python",
   "pygments_lexer": "ipython3",
   "version": "3.13.0"
  }
 },
 "nbformat": 4,
 "nbformat_minor": 5
}
