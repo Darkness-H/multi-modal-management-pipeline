{
 "cells": [
  {
   "cell_type": "markdown",
   "id": "2cefc238-8601-4418-a77c-10c2b7c198a3",
   "metadata": {},
   "source": [
    "## Video Homogenizer"
   ]
  },
  {
   "cell_type": "code",
   "execution_count": 1,
   "id": "6ce2c7e3-fbad-4fbc-bb76-3b325dcbe5fb",
   "metadata": {},
   "outputs": [],
   "source": [
    "# Importing useful dependencies\n",
    "import io\n",
    "import os\n",
    "import boto3"
   ]
  },
  {
   "cell_type": "code",
   "execution_count": 3,
   "id": "27bcca80-6137-4e5f-91df-78859625810a",
   "metadata": {},
   "outputs": [],
   "source": [
    "import os\n",
    "import tempfile\n",
    "import subprocess\n",
    "import boto3"
   ]
  },
  {
   "cell_type": "code",
   "execution_count": 2,
   "id": "d806a63d-aae4-4f3f-b8e0-3d7d63df6e15",
   "metadata": {},
   "outputs": [],
   "source": [
    "# Setup S3 client for MinIO (MinIO implements Amazon S3 API)\n",
    "s3 = boto3.client(\n",
    "    \"s3\",\n",
    "    endpoint_url=\"http://127.0.0.1:9000\", # MinIO API endpoint\n",
    "    aws_access_key_id=\"minioadmin\", # User name\n",
    "    aws_secret_access_key=\"minioadmin\", # Password\n",
    ")"
   ]
  },
  {
   "cell_type": "code",
   "execution_count": null,
   "id": "cc9d0433-1267-48c5-a9bf-1197851174c5",
   "metadata": {},
   "outputs": [],
   "source": [
    "all common video formats"
   ]
  },
  {
   "cell_type": "code",
   "execution_count": 10,
   "id": "1b77159a-9a60-49e1-97ea-a022c22c049f",
   "metadata": {},
   "outputs": [],
   "source": [
    "def convert_videos_to_mp4(bucket, prefix=\"\"):\n",
    "    paginator = s3.get_paginator(\"list_objects_v2\")\n",
    "    for page in paginator.paginate(Bucket=bucket, Prefix=prefix):\n",
    "        for obj in page.get(\"Contents\", []):\n",
    "\n",
    "            if obj['Size'] == 0: # skip the folder itself\n",
    "                continue\n",
    "\n",
    "            key = obj[\"Key\"]\n",
    "\n",
    "            ext = os.path.splitext(key)[1].lower() # define extension\n",
    "\n",
    "            if ext == \".mp4\":\n",
    "                continue # already MP4\n",
    "\n",
    "            # New key with .mp4 extension\n",
    "            new_key = os.path.splitext(key)[0] + \".mp4\"\n",
    "\n",
    "            try:\n",
    "                # Download video to temporary file\n",
    "                with tempfile.NamedTemporaryFile(delete=False, suffix=ext) as tmp_in:\n",
    "                    resp = s3.get_object(Bucket=bucket, Key=key)\n",
    "                    tmp_in.write(resp['Body'].read())\n",
    "                    tmp_in_path = tmp_in.name\n",
    "\n",
    "                # Temporary file for output MP4\n",
    "                with tempfile.NamedTemporaryFile(delete=False, suffix=\".mp4\") as tmp_out:\n",
    "                    tmp_out_path = tmp_out.name\n",
    "\n",
    "                # Convert using FFmpeg\n",
    "                cmd = [\n",
    "                    \"ffmpeg\", \"-y\",\n",
    "                    \"-i\", tmp_in_path,\n",
    "                    \"-c:v\", \"libx264\",\n",
    "                    \"-c:a\", \"aac\",\n",
    "                    \"-strict\", \"experimental\",\n",
    "                    tmp_out_path\n",
    "                ]\n",
    "                subprocess.run(cmd, check=True, stdout=subprocess.PIPE, stderr=subprocess.PIPE)\n",
    "\n",
    "                # Upload MP4 back\n",
    "                with open(tmp_out_path, \"rb\") as f:\n",
    "                    s3.upload_fileobj(f, Bucket=bucket, Key=new_key, ExtraArgs={\"ContentType\": \"video/mp4\"})\n",
    "\n",
    "                # Delete original video\n",
    "                s3.delete_object(Bucket=bucket, Key=key)\n",
    "\n",
    "                print(f\"Replaced: {key} -> {new_key}\")\n",
    "\n",
    "            except Exception as e:\n",
    "                print(f\"Failed converting {key}: {e}\")\n",
    "\n",
    "            finally:\n",
    "                \n",
    "                # Clean up temp files\n",
    "                if os.path.exists(tmp_in_path):\n",
    "                    os.remove(tmp_in_path)\n",
    "                if os.path.exists(tmp_out_path):\n",
    "                    os.remove(tmp_out_path)"
   ]
  },
  {
   "cell_type": "code",
   "execution_count": 11,
   "id": "b140cffd-9490-4350-a089-539e7ad20b17",
   "metadata": {},
   "outputs": [
    {
     "name": "stdout",
     "output_type": "stream",
     "text": [
      "Failed converting videos-test/file_example_AVI_1920_2_3MG.avi: [WinError 2] El sistema no puede encontrar el archivo especificado\n",
      "Failed converting videos-test/file_example_MOV_1920_2_2MB.mov: [WinError 2] El sistema no puede encontrar el archivo especificado\n",
      "Failed converting videos-test/file_example_WEBM_1920_3_7MB.webm: [WinError 2] El sistema no puede encontrar el archivo especificado\n",
      "Failed converting videos-test/file_example_WMV_1920_9_3MB.wmv: [WinError 2] El sistema no puede encontrar el archivo especificado\n",
      "Failed converting videos-test/sample_1280x720.mkv: [WinError 2] El sistema no puede encontrar el archivo especificado\n",
      "Failed converting videos-test/sample_960x400_ocean_with_audio.mkv: [WinError 2] El sistema no puede encontrar el archivo especificado\n"
     ]
    }
   ],
   "source": [
    "# Change the format of videos to MP4\n",
    "convert_videos_to_mp4(bucket = \"formatted-zone\", prefix = \"videos-test/\")"
   ]
  }
 ],
 "metadata": {
  "kernelspec": {
   "display_name": "Python 3 (ipykernel)",
   "language": "python",
   "name": "python3"
  },
  "language_info": {
   "codemirror_mode": {
    "name": "ipython",
    "version": 3
   },
   "file_extension": ".py",
   "mimetype": "text/x-python",
   "name": "python",
   "nbconvert_exporter": "python",
   "pygments_lexer": "ipython3",
   "version": "3.11.1"
  }
 },
 "nbformat": 4,
 "nbformat_minor": 5
}
