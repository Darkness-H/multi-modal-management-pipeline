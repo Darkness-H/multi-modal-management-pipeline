{
 "cells": [
  {
   "cell_type": "markdown",
   "id": "2cefc238-8601-4418-a77c-10c2b7c198a3",
   "metadata": {},
   "source": [
    "## Video Homogenizer"
   ]
  },
  {
   "cell_type": "code",
   "execution_count": 1,
   "id": "abdf6d6e-1228-4eae-8e4f-b57a9577adce",
   "metadata": {},
   "outputs": [],
   "source": [
    "#!pip install moviepy"
   ]
  },
  {
   "cell_type": "code",
   "execution_count": 2,
   "id": "6ce2c7e3-fbad-4fbc-bb76-3b325dcbe5fb",
   "metadata": {},
   "outputs": [],
   "source": [
    "# Importing useful dependencies\n",
    "import io\n",
    "import os\n",
    "import boto3\n",
    "import warnings\n",
    "import tempfile\n",
    "from moviepy import VideoFileClip\n",
    "\n",
    "# The following line ignores any warnings MoviePy would normally print (like those ffmpeg frame read errors) just won’t show up.\n",
    "warnings.filterwarnings(\"ignore\", category=UserWarning, module=\"moviepy\")"
   ]
  },
  {
   "cell_type": "code",
   "execution_count": 3,
   "id": "d806a63d-aae4-4f3f-b8e0-3d7d63df6e15",
   "metadata": {},
   "outputs": [],
   "source": [
    "# Setup S3 client for MinIO (MinIO implements Amazon S3 API)\n",
    "s3 = boto3.client(\n",
    "    \"s3\",\n",
    "    endpoint_url=\"http://127.0.0.1:9000\", # MinIO API endpoint\n",
    "    aws_access_key_id=\"minioadmin\", # User name\n",
    "    aws_secret_access_key=\"minioadmin\", # Password\n",
    ")"
   ]
  },
  {
   "cell_type": "code",
   "execution_count": 4,
   "id": "1b77159a-9a60-49e1-97ea-a022c22c049f",
   "metadata": {},
   "outputs": [],
   "source": [
    "# This function scans an bucket for non-MP4 videos, downloads them, converts them to MP4 with MoviePy,\n",
    "# uploads the MP4s back to S3, and deletes the originals.\n",
    "def convert_videos_to_mp4(bucket, prefix=\"\"):\n",
    "    paginator = s3.get_paginator(\"list_objects_v2\")\n",
    "    for page in paginator.paginate(Bucket=bucket, Prefix=prefix):\n",
    "        for obj in page.get(\"Contents\", []):\n",
    "\n",
    "            key = obj[\"Key\"]\n",
    "\n",
    "            if obj['Size'] == 0 and key.endswith(\"/\"): # skip the folder itself\n",
    "                continue\n",
    "\n",
    "            ext = os.path.splitext(key)[1].lower() # define extension\n",
    "\n",
    "            if ext == \".mp4\":\n",
    "                continue # already MP4\n",
    "\n",
    "            # New key with .mp4 extension\n",
    "            new_key = os.path.splitext(key)[0] + \".mp4\"\n",
    "\n",
    "            tmp_in_path = tmp_out_path = None\n",
    "            clip = None\n",
    "            try:\n",
    "                # Download to temp input file\n",
    "                with tempfile.NamedTemporaryFile(delete=False, suffix=ext) as tmp_in:\n",
    "                    resp = s3.get_object(Bucket=bucket, Key=key)\n",
    "                    tmp_in.write(resp[\"Body\"].read())\n",
    "                    tmp_in.flush()\n",
    "                    tmp_in_path = tmp_in.name\n",
    "\n",
    "                # Temp output file\n",
    "                with tempfile.NamedTemporaryFile(delete=False, suffix=\".mp4\") as tmp_out:\n",
    "                    tmp_out_path = tmp_out.name\n",
    "\n",
    "                # Convert using MoviePy (wrap ffmpeg with err_detect ignore)\n",
    "                clip = VideoFileClip(tmp_in_path)\n",
    "                # Suppress MoviePy console output by passing verbose=False and logger=None\n",
    "                clip.write_videofile(tmp_out_path, codec=\"libx264\", audio_codec=\"aac\", logger=None)\n",
    "\n",
    "                # Upload MP4 back to bucket\n",
    "                with open(tmp_out_path, \"rb\") as f:\n",
    "                    s3.upload_fileobj(f, Bucket=bucket, Key=new_key, ExtraArgs={\"ContentType\": \"video/mp4\"})\n",
    "\n",
    "                # Delete original object\n",
    "                s3.delete_object(Bucket=bucket, Key=key)\n",
    "\n",
    "                print(f\"Replaced: {key} -> {new_key}\")\n",
    "\n",
    "            except Exception as e:\n",
    "                print(f\"Failed converting {key}: {e}\")\n",
    "\n",
    "            finally:\n",
    "                \n",
    "                # close clip if opened\n",
    "                try:\n",
    "                    if clip is not None:\n",
    "                        clip.close()\n",
    "                except Exception:\n",
    "                    pass\n",
    "\n",
    "                # cleanup temp files\n",
    "                if tmp_in_path and os.path.exists(tmp_in_path):\n",
    "                    try: os.remove(tmp_in_path)\n",
    "                    except Exception: pass\n",
    "                if tmp_out_path and os.path.exists(tmp_out_path):\n",
    "                    try: os.remove(tmp_out_path)\n",
    "                    except Exception: pass"
   ]
  },
  {
   "cell_type": "code",
   "execution_count": 5,
   "id": "b140cffd-9490-4350-a089-539e7ad20b17",
   "metadata": {},
   "outputs": [],
   "source": [
    "# Change the format of videos to MP4\n",
    "convert_videos_to_mp4(bucket = \"formatted-zone\", prefix = \"videos/\")"
   ]
  }
 ],
 "metadata": {
  "kernelspec": {
   "display_name": "Python 3 (ipykernel)",
   "language": "python",
   "name": "python3"
  },
  "language_info": {
   "codemirror_mode": {
    "name": "ipython",
    "version": 3
   },
   "file_extension": ".py",
   "mimetype": "text/x-python",
   "name": "python",
   "nbconvert_exporter": "python",
   "pygments_lexer": "ipython3",
   "version": "3.11.1"
  }
 },
 "nbformat": 4,
 "nbformat_minor": 5
}
