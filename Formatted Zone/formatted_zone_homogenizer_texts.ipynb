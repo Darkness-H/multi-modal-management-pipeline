{
 "cells": [
  {
   "cell_type": "markdown",
   "id": "2cefc238-8601-4418-a77c-10c2b7c198a3",
   "metadata": {},
   "source": [
    "## TextHomogenizer\n"
   ]
  },
  {
   "cell_type": "code",
   "execution_count": 18,
   "id": "d73a52fc-33d9-4dc7-a143-fbb988e28279",
   "metadata": {},
   "outputs": [],
   "source": [
    "# Importing useful dependencies\n",
    "import io\n",
    "import os\n",
    "import boto3\n",
    "import chardet\n",
    "import docx\n",
    "import fitz\n",
    "import json"
   ]
  },
  {
   "cell_type": "code",
   "execution_count": 2,
   "id": "f5dde4a2-fe5f-45fd-84b4-35ee7ec4c89d",
   "metadata": {},
   "outputs": [],
   "source": [
    "# Setup S3 client for MinIO (MinIO implements Amazon S3 API)\n",
    "s3 = boto3.client(\n",
    "    \"s3\",\n",
    "    endpoint_url=\"http://127.0.0.1:9000\", # MinIO API endpoint\n",
    "    aws_access_key_id=\"minioadmin\", # User name\n",
    "    aws_secret_access_key=\"minioadmin\", # Password\n",
    ")"
   ]
  },
  {
   "cell_type": "code",
   "execution_count": 33,
   "id": "87332a35-31f2-48df-82ad-9ca134bb89d0",
   "metadata": {},
   "outputs": [],
   "source": [
    "# Define all function to extract text from other format\n",
    "\n",
    "# Extraction of docx file\n",
    "\n",
    "def extract_from_docx(body):\n",
    "    file = io.BytesIO(body)\n",
    "    doc = docx.Document(file)\n",
    "    \n",
    "    text = \"\"\n",
    "    for para in doc.paragraphs:\n",
    "        text += para.text + \"\\n\"\n",
    "    return text.strip()\n",
    "\n",
    "def extract_from_pdf(body):\n",
    "    file = io.BytesIO(body)\n",
    "    doc = fitz.open(stream=file, filetype=\"pdf\")\n",
    "    text = ''\n",
    "    for page_num in range(len(doc)):\n",
    "        page = doc.load_page(page_num)\n",
    "        text += page.get_text()\n",
    "    return text"
   ]
  },
  {
   "cell_type": "code",
   "execution_count": 36,
   "id": "9b492b26-583d-4f73-8ddc-9195bf5d4a34",
   "metadata": {},
   "outputs": [
    {
     "data": {
      "text/plain": [
       "'\\n            # New key with .png extension\\n            new_key = os.path.splitext(key)[0] + \".png\"\\n\\n            # Download the image\\n            resp = s3.get_object(Bucket=bucket, Key=key)\\n            body = resp[\"Body\"].read()\\n\\n            # Convert to PNG\\n            img = Image.open(io.BytesIO(body)).convert(\"RGBA\")\\n            buf = io.BytesIO()\\n            img.save(buf, format=\"PNG\")\\n            buf.seek(0)\\n\\n            # Upload the image back as PNG (replace original with .png)\\n            s3.upload_fileobj(buf, Bucket=bucket, Key=new_key, ExtraArgs={\"ContentType\": \"image/png\"})\\n\\n            # Delete the old image\\n            s3.delete_object(Bucket=bucket, Key=key)\\n\\n            print(f\"Replaced: {key} -> {new_key}\")\\n'"
      ]
     },
     "execution_count": 36,
     "metadata": {},
     "output_type": "execute_result"
    }
   ],
   "source": [
    "def convert_texts_to_txt(bucket, prefix=\"\"):\n",
    "    paginator = s3.get_paginator(\"list_objects_v2\")\n",
    "    for page in paginator.paginate(Bucket=bucket, Prefix=prefix):\n",
    "        for obj in page.get(\"Contents\", []):\n",
    "\n",
    "            if obj['Size'] == 0:  # Skip the folder itself (if the file size is 0)\n",
    "                continue\n",
    "\n",
    "            key = obj[\"Key\"]\n",
    "            resp = s3.get_object(Bucket=bucket, Key=key)\n",
    "            body = resp[\"Body\"].read()  # Read the file content\n",
    "            if key.endswith(\".docx\"):\n",
    "                content = extract_from_docx(body)\n",
    "                name, ext = os.path.splitext(key)\n",
    "                \n",
    "                newKey= name + \".txt\"\n",
    "                s3.put_object(\n",
    "                    Bucket=bucket,\n",
    "                    Key=newKey,  # Make sure the file key (path) is correct\n",
    "                    Body=content.encode('utf-8'),\n",
    "                    ContentType=\"text/plain\"\n",
    "                )\n",
    "                s3.delete_object(Bucket=bucket, Key=key)\n",
    "\n",
    "            if key.endswith(\".pdf\"):\n",
    "                content = extract_from_pdf(body)\n",
    "                name, ext = os.path.splitext(key)\n",
    "                \n",
    "                newKey= name + \"1.txt\"\n",
    "                s3.put_object(\n",
    "                    Bucket=bucket,\n",
    "                    Key=newKey,  # Make sure the file key (path) is correct\n",
    "                    Body=content.encode('utf-8'),\n",
    "                    ContentType=\"text/plain\"\n",
    "                )\n",
    "                s3.delete_object(Bucket=bucket, Key=key)\n",
    "\n",
    "\n",
    "            \n",
    "            \n",
    "            elif key.endswith(\".txt\"):\n",
    "                try:\n",
    "                    # Get the file object from S3\n",
    "    \n",
    "                    # Use chardet to detect the file encoding\n",
    "                    result = chardet.detect(body)\n",
    "                    current_encoding = result['encoding']\n",
    "                    # Skip if the file is already in UTF-8 encoding\n",
    "                    if (current_encoding == \"utf-8\" or current_encoding == \"ascii\"):\n",
    "                        continue\n",
    "                    print(current_encoding)\n",
    "                    print(f\"Converting {key} from {current_encoding} to UTF-8\")\n",
    "\n",
    "                    # Decode the content using the detected encoding and re-encode it in UTF-8\n",
    "                    content = body.decode(current_encoding, errors='ignore')  # Ignore characters that can't be decoded\n",
    "                    \n",
    "                    # Upload the converted content back to S3 in UTF-8\n",
    "                    s3.put_object(\n",
    "                        Bucket=bucket,\n",
    "                        Key=key,  # Make sure the file key (path) is correct\n",
    "                        Body=content.encode('utf-8'),\n",
    "                        ContentType=\"text/plain\"\n",
    "                    )\n",
    "                    print(f\"Successfully converted {key} to UTF-8.\")\n",
    "                    \n",
    "                except Exception as e:\n",
    "                    print(f\"Failed to process {key}: {e}\")  # Print error if something goes wrong\n",
    "\n",
    "\"\"\"\n",
    "            # New key with .png extension\n",
    "            new_key = os.path.splitext(key)[0] + \".png\"\n",
    "\n",
    "            # Download the image\n",
    "            resp = s3.get_object(Bucket=bucket, Key=key)\n",
    "            body = resp[\"Body\"].read()\n",
    "            \n",
    "            # Convert to PNG\n",
    "            img = Image.open(io.BytesIO(body)).convert(\"RGBA\")\n",
    "            buf = io.BytesIO()\n",
    "            img.save(buf, format=\"PNG\")\n",
    "            buf.seek(0)\n",
    "\n",
    "            # Upload the image back as PNG (replace original with .png)\n",
    "            s3.upload_fileobj(buf, Bucket=bucket, Key=new_key, ExtraArgs={\"ContentType\": \"image/png\"})\n",
    "\n",
    "            # Delete the old image\n",
    "            s3.delete_object(Bucket=bucket, Key=key)\n",
    "\n",
    "            print(f\"Replaced: {key} -> {new_key}\")\n",
    "\"\"\""
   ]
  },
  {
   "cell_type": "code",
   "execution_count": 38,
   "id": "6895ffcf-6008-4eaa-a469-c695d07aa0d1",
   "metadata": {},
   "outputs": [],
   "source": [
    "convert_texts_to_txt(bucket = \"formatted-zone\", prefix = \"texts/\")"
   ]
  }
 ],
 "metadata": {
  "kernelspec": {
   "display_name": "Python 3 (ipykernel)",
   "language": "python",
   "name": "python3"
  },
  "language_info": {
   "codemirror_mode": {
    "name": "ipython",
    "version": 3
   },
   "file_extension": ".py",
   "mimetype": "text/x-python",
   "name": "python",
   "nbconvert_exporter": "python",
   "pygments_lexer": "ipython3",
   "version": "3.12.8"
  }
 },
 "nbformat": 4,
 "nbformat_minor": 5
}
