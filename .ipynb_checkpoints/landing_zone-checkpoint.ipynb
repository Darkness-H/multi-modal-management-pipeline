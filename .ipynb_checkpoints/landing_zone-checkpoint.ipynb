{
 "cells": [
  {
   "cell_type": "markdown",
   "id": "2cefc238-8601-4418-a77c-10c2b7c198a3",
   "metadata": {},
   "source": [
    "## Landing Zone"
   ]
  },
  {
   "cell_type": "code",
   "execution_count": 68,
   "id": "6646995a-a5f9-45f2-9b01-a4fa9bc7ce39",
   "metadata": {},
   "outputs": [],
   "source": [
    "# Importing useful dependencies\n",
    "import io\n",
    "import ast\n",
    "import time\n",
    "import boto3\n",
    "import requests\n",
    "import mimetypes\n",
    "from io import BytesIO\n",
    "from botocore.client import Config\n",
    "from datasets import load_dataset"
   ]
  },
  {
   "cell_type": "code",
   "execution_count": 2,
   "id": "49006770-6f93-4861-b155-401f1addbdd5",
   "metadata": {},
   "outputs": [],
   "source": [
    "# Setup S3 client for MinIO (MinIO implements Amazon S3 API)\n",
    "s3 = boto3.client(\n",
    "    \"s3\",\n",
    "    endpoint_url=\"http://127.0.0.1:9000\", # MinIO API endpoint\n",
    "    aws_access_key_id=\"minioadmin\", # User name\n",
    "    aws_secret_access_key=\"minioadmin\", # Password\n",
    ")"
   ]
  },
  {
   "cell_type": "code",
   "execution_count": 27,
   "id": "9b678b27-d010-4599-98ae-42a55cba3e87",
   "metadata": {},
   "outputs": [
    {
     "name": "stdout",
     "output_type": "stream",
     "text": [
      "Bucket 'landing-zone' already exists!\n"
     ]
    }
   ],
   "source": [
    "# List existing buckets\n",
    "buckets = [b[\"Name\"] for b in s3.list_buckets()[\"Buckets\"]]\n",
    "\n",
    "# Function that given a name, creates a bucket\n",
    "def createBucket(name, list_buckets):\n",
    "    if name in list_buckets:\n",
    "        print(f\"Bucket '{name}' already exists!\")\n",
    "    else:\n",
    "        s3.create_bucket(Bucket=name)\n",
    "        print(f\"Created bucket: {name}\")\n",
    "\n",
    "# Create a bucket named landing_zone\n",
    "createBucket(\"landing-zone\", buckets)"
   ]
  },
  {
   "cell_type": "code",
   "execution_count": 88,
   "id": "7c332269-34e5-44c5-a503-90c182f0108b",
   "metadata": {},
   "outputs": [
    {
     "data": {
      "text/plain": [
       "{'ResponseMetadata': {'RequestId': '186836F9B95E57AD',\n",
       "  'HostId': 'dd9025bab4ad464b049177c95eb6ebf374d3b3fd1af9251148b658df7ac2e3e8',\n",
       "  'HTTPStatusCode': 200,\n",
       "  'HTTPHeaders': {'accept-ranges': 'bytes',\n",
       "   'content-length': '0',\n",
       "   'etag': '\"d41d8cd98f00b204e9800998ecf8427e\"',\n",
       "   'server': 'MinIO',\n",
       "   'strict-transport-security': 'max-age=31536000; includeSubDomains',\n",
       "   'vary': 'Origin, Accept-Encoding',\n",
       "   'x-amz-checksum-crc32': 'AAAAAA==',\n",
       "   'x-amz-checksum-type': 'FULL_OBJECT',\n",
       "   'x-amz-id-2': 'dd9025bab4ad464b049177c95eb6ebf374d3b3fd1af9251148b658df7ac2e3e8',\n",
       "   'x-amz-request-id': '186836F9B95E57AD',\n",
       "   'x-content-type-options': 'nosniff',\n",
       "   'x-ratelimit-limit': '1698',\n",
       "   'x-ratelimit-remaining': '1698',\n",
       "   'x-xss-protection': '1; mode=block',\n",
       "   'date': 'Wed, 24 Sep 2025 12:15:00 GMT'},\n",
       "  'RetryAttempts': 0},\n",
       " 'ETag': '\"d41d8cd98f00b204e9800998ecf8427e\"',\n",
       " 'ChecksumCRC32': 'AAAAAA==',\n",
       " 'ChecksumType': 'FULL_OBJECT'}"
      ]
     },
     "execution_count": 88,
     "metadata": {},
     "output_type": "execute_result"
    }
   ],
   "source": [
    "# Create two sub-buckets inside landing_zone.\n",
    "# Strictly speaking, we cannot cannot create a bucket inside another one, so we will create it like a folder.\n",
    "s3.put_object(Bucket=\"landing-zone\", Key=\"temporal-landing/\") # Sub-bucket Temporal Landing\n",
    "s3.put_object(Bucket=\"landing-zone\", Key=\"persistent-landing/\") # Sub-bucket Presistent Landing"
   ]
  },
  {
   "cell_type": "markdown",
   "id": "023b3d1f-3bac-4d93-bc79-59bf4bfa02d4",
   "metadata": {},
   "source": [
    "### Temporal Landing"
   ]
  },
  {
   "cell_type": "code",
   "execution_count": 5,
   "id": "8a3ccd4d-9ac2-4047-a914-b5a479ec700b",
   "metadata": {
    "scrolled": true
   },
   "outputs": [
    {
     "name": "stdout",
     "output_type": "stream",
     "text": [
      "The dataset 1 contains 83560 rows\n",
      "The dataset 2 contains 889793 rows\n"
     ]
    },
    {
     "name": "stderr",
     "output_type": "stream",
     "text": [
      "C:\\Users\\SakuraSnow\\AppData\\Local\\Programs\\Python\\Python311\\Lib\\site-packages\\datasets\\table.py:1421: FutureWarning: promote has been superseded by promote_options='default'.\n",
      "  table = cls._concat_blocks(blocks, axis=0)\n"
     ]
    }
   ],
   "source": [
    "# We are going to use two datasets, one from: https://huggingface.co/datasets/FronkonGames/steam-games-dataset (123 MB)\n",
    "ds1_raw = load_dataset(\"FronkonGames/steam-games-dataset\")\n",
    "# The other one from: https://huggingface.co/datasets/atalaydenknalbant/rawg-games-dataset (998 MB)\n",
    "ds2_raw = load_dataset(\"atalaydenknalbant/rawg-games-dataset\")\n",
    "\n",
    "# Print the number of rows of each dataset\n",
    "print(f\"The dataset 1 contains {ds1_raw['train'].num_rows} rows\")\n",
    "print(f\"The dataset 2 contains {ds2_raw['train'].num_rows} rows\")"
   ]
  },
  {
   "cell_type": "code",
   "execution_count": 6,
   "id": "48a2d8f5-5c74-4806-afa4-4a3f18da1b9e",
   "metadata": {},
   "outputs": [
    {
     "name": "stdout",
     "output_type": "stream",
     "text": [
      "The subdataset 1 contains 100 rows\n",
      "The subdataset 2 contains 100 rows\n"
     ]
    }
   ],
   "source": [
    "# We are going to use the first 100 rows from each dataset for testing purposes\n",
    "ds1 = ds1_raw['train'][0:100]\n",
    "ds2 = ds2_raw['train'][0:100]\n",
    "\n",
    "# Print the number of rows of each subdataset\n",
    "print(f\"The subdataset 1 contains {len(ds1['About the game'])} rows\")\n",
    "print(f\"The subdataset 2 contains {len(ds2['description'])} rows\")"
   ]
  },
  {
   "cell_type": "code",
   "execution_count": 7,
   "id": "d1730751-22ff-4e86-aa5c-2d59dabd0d8f",
   "metadata": {},
   "outputs": [],
   "source": [
    "# We are interested on Text, Image and Video data\n",
    "# We can find each of these data in the following columns\n",
    "# ds1: \"About the game\" (Text), \"Header image\" (Image), \"Screenshots\" (Image), \"Movies\" (Video)\n",
    "# ds2: \"description\" (Text), \"background_image\" (Image), \"background_image_additional\" (Image), \"short_screenshots\" (Image)\n",
    "# By combing both datasets, we assume there will be duplicates of games"
   ]
  },
  {
   "cell_type": "markdown",
   "id": "56f776a0-87e4-42d6-a4f6-e2a64353bd10",
   "metadata": {},
   "source": [
    "**Uploading Texts**"
   ]
  },
  {
   "cell_type": "code",
   "execution_count": 89,
   "id": "32ea3863-3a8e-4db6-9b2f-6d19678b4273",
   "metadata": {},
   "outputs": [],
   "source": [
    "def upload_strings_separately(bucket_name, client, strings, path=\"temporal-landing/\", prefix=\"text\"):\n",
    "    for i, s in enumerate(strings, start=1):\n",
    "        if not s: # skip empty strings or None\n",
    "            continue\n",
    "        object_name = f\"{path}{prefix}_{i}.txt\" # temporal-landing/text_1.txt, temporal-landing/text_2.txt ...\n",
    "        client.put_object(\n",
    "            Bucket=bucket_name,\n",
    "            Key=object_name,\n",
    "            Body=io.BytesIO(s.encode(\"utf-8\")),\n",
    "            ContentType=\"text/plain\"\n",
    "        )\n",
    "\n",
    "# Uploading text files (combining both datasets)\n",
    "upload_strings_separately(\"landing-zone\", s3, strings = \n",
    "                          ds1['About the game'] +\n",
    "                          ds2['description'],\n",
    "                          path = \"temporal-landing/\")"
   ]
  },
  {
   "cell_type": "markdown",
   "id": "c204d754-27cb-4a44-b501-170d13df8e76",
   "metadata": {},
   "source": [
    "**Uploading Images**"
   ]
  },
  {
   "cell_type": "code",
   "execution_count": 54,
   "id": "4412cac5-9407-4b9f-882f-51aedfb9cfaf",
   "metadata": {},
   "outputs": [],
   "source": [
    "# The fields \"Screenshots\" from ds1 and \"short_screenshots\" from ds2 need to be cleaned first.\n",
    "\n",
    "# ds1\n",
    "ds1ss = [] # Flatten into a clean list of URLs\n",
    "for item in ds1['Screenshots']:\n",
    "    if not item:\n",
    "        continue\n",
    "    ds1ss.extend([url.strip() for url in item.split(\",\") if url.strip()])\n",
    "\n",
    "# ds2\n",
    "ds2ss = [] # Extract image URLs\n",
    "for elem in ds2['short_screenshots']:\n",
    "    if not elem:\n",
    "        continue\n",
    "    records = elem.split('|') # Split the string by '|'\n",
    "    for rec in records:\n",
    "        # Convert string to dict safely\n",
    "        d = ast.literal_eval(rec)\n",
    "        ds2ss.append(d['image'])"
   ]
  },
  {
   "cell_type": "code",
   "execution_count": 90,
   "id": "c3a2b4e3-3b19-480d-8893-b82ed0caf0ca",
   "metadata": {},
   "outputs": [],
   "source": [
    "def upload_media_from_links(bucket_name, client, links, path=\"temporal-landing/\", prefix=\"image\"):\n",
    "    for i, url in enumerate(links, start=1):\n",
    "        if not url:\n",
    "            continue\n",
    "        \n",
    "        # Stream download to avoid loading full file in memory\n",
    "        with requests.get(url, stream=True, timeout=60) as r:\n",
    "            r.raise_for_status() # check for HTTP errors\n",
    "            ext = url.split('.')[-1].split('?')[0] # get file extension\n",
    "            object_name = f\"{path}{prefix}_{i}.{ext}\"\n",
    "            # This streams the request directly to MinIO without creating a full BytesIO object\n",
    "            client.upload_fileobj(\n",
    "                Fileobj=r.raw,\n",
    "                Bucket=bucket_name,\n",
    "                Key=object_name,\n",
    "                ExtraArgs={\"ContentType\": f\"{prefix}/{ext}\"}\n",
    "            )"
   ]
  },
  {
   "cell_type": "code",
   "execution_count": 91,
   "id": "ddf450a2-dd59-4f82-84ea-af04e372d750",
   "metadata": {},
   "outputs": [],
   "source": [
    "# Uploading image files (combining both datasets)\n",
    "upload_media_from_links(\"landing-zone\", s3, links = \n",
    "                         ds1['Header image'] + ds2['background_image'], #+ ds2['background_image_additional'] + ds1ss + ds2ss,\n",
    "                         path=\"temporal-landing/\")"
   ]
  },
  {
   "cell_type": "markdown",
   "id": "9c8f5562-2e5d-4afb-9e15-55b7b243a4c5",
   "metadata": {},
   "source": [
    "**Uploading Videos**"
   ]
  },
  {
   "cell_type": "code",
   "execution_count": 92,
   "id": "63257581-98af-4604-bb24-a024fb197807",
   "metadata": {
    "scrolled": true
   },
   "outputs": [],
   "source": [
    "# Uploading video files\n",
    "upload_media_from_links(\"landing-zone\", s3, links = \n",
    "                         ds1['Movies'][0:5], # We can only upload a few videos due to MinioIO storage size\n",
    "                         path=\"temporal-landing/\", prefix = \"video\")"
   ]
  },
  {
   "cell_type": "markdown",
   "id": "2a8cd19c-5722-488d-a559-cf4a7a456871",
   "metadata": {},
   "source": [
    "### Persistent Landing"
   ]
  },
  {
   "cell_type": "code",
   "execution_count": 93,
   "id": "c1b9415b-1d45-4583-b981-954626fffdb8",
   "metadata": {
    "scrolled": true
   },
   "outputs": [
    {
     "data": {
      "text/plain": [
       "{'ResponseMetadata': {'RequestId': '186837157552E308',\n",
       "  'HostId': 'dd9025bab4ad464b049177c95eb6ebf374d3b3fd1af9251148b658df7ac2e3e8',\n",
       "  'HTTPStatusCode': 200,\n",
       "  'HTTPHeaders': {'accept-ranges': 'bytes',\n",
       "   'content-length': '0',\n",
       "   'etag': '\"d41d8cd98f00b204e9800998ecf8427e\"',\n",
       "   'server': 'MinIO',\n",
       "   'strict-transport-security': 'max-age=31536000; includeSubDomains',\n",
       "   'vary': 'Origin, Accept-Encoding',\n",
       "   'x-amz-checksum-crc32': 'AAAAAA==',\n",
       "   'x-amz-checksum-type': 'FULL_OBJECT',\n",
       "   'x-amz-id-2': 'dd9025bab4ad464b049177c95eb6ebf374d3b3fd1af9251148b658df7ac2e3e8',\n",
       "   'x-amz-request-id': '186837157552E308',\n",
       "   'x-content-type-options': 'nosniff',\n",
       "   'x-ratelimit-limit': '1698',\n",
       "   'x-ratelimit-remaining': '1698',\n",
       "   'x-xss-protection': '1; mode=block',\n",
       "   'date': 'Wed, 24 Sep 2025 12:16:59 GMT'},\n",
       "  'RetryAttempts': 0},\n",
       " 'ETag': '\"d41d8cd98f00b204e9800998ecf8427e\"',\n",
       " 'ChecksumCRC32': 'AAAAAA==',\n",
       " 'ChecksumType': 'FULL_OBJECT'}"
      ]
     },
     "execution_count": 93,
     "metadata": {},
     "output_type": "execute_result"
    }
   ],
   "source": [
    "# Create three sub-buckets inside persistent-landing, one per format\n",
    "s3.put_object(Bucket=\"landing-zone\", Key=\"persistent-landing/texts/\") # Sub-bucket Text\n",
    "s3.put_object(Bucket=\"landing-zone\", Key=\"persistent-landing/images/\") # Sub-bucket Image\n",
    "s3.put_object(Bucket=\"landing-zone\", Key=\"persistent-landing/videos/\") # Sub-bucket Video"
   ]
  },
  {
   "cell_type": "code",
   "execution_count": 94,
   "id": "cbb7f3de-6332-4655-ab88-6ced8dd3b564",
   "metadata": {},
   "outputs": [],
   "source": [
    "def classify_object_by_head(client, bucket, key):\n",
    "    \"\"\"\n",
    "    Return 'texts', 'images' or 'videos' by inspecting file ContentType.\n",
    "    \"\"\"\n",
    "    # ask S3 for ContentType\n",
    "    head = client.head_object(Bucket=bucket, Key=key)\n",
    "    ct = head.get(\"ContentType\", \"\")\n",
    "    if ct.startswith(\"text/\"):\n",
    "        return \"texts\"\n",
    "    elif ct.startswith(\"image/\"):\n",
    "        return \"images\"\n",
    "    elif ct.startswith(\"video/\"):\n",
    "        return \"videos\"\n",
    "\n",
    "def move_files(client, bucket,\n",
    "               source_prefix=\"temporal-landing/\",\n",
    "               dest_prefix=\"persistent-landing/\"):\n",
    "    \"\"\"\n",
    "    Move (copy then delete) all objects under source_prefix to dest_prefix,\n",
    "    routing text -> dest_prefix/texts/, image -> persistent/images/, video -> dest_prefix/videos/.\n",
    "    \"\"\"\n",
    "    paginator = client.get_paginator(\"list_objects_v2\") # It returns objects in pages and not all at once.\n",
    "\n",
    "    for page in paginator.paginate(Bucket=bucket, Prefix=source_prefix):\n",
    "        for obj in page.get(\"Contents\", []):\n",
    "\n",
    "            if obj['Size'] == 0:\n",
    "                continue\n",
    "            \n",
    "            src_key = obj[\"Key\"]\n",
    "\n",
    "            # classify\n",
    "            category = classify_object_by_head(client, bucket, src_key)\n",
    "\n",
    "            # get file extension\n",
    "            ext = src_key.split('.')[-1].split('?')[0]\n",
    "\n",
    "            # new filename = timestamp + original extension\n",
    "            ts = int(time.time() * 1000)  # milliseconds\n",
    "            new_filename = f\"{category[0:-1]}_{ts}.{ext}\"\n",
    "\n",
    "            # build destination key\n",
    "            dest_key = f\"{dest_prefix}{category}/{new_filename}\"\n",
    "\n",
    "            # copy then delete\n",
    "            client.copy_object(Bucket=bucket, CopySource={\"Bucket\": bucket, \"Key\": src_key}, Key=dest_key)\n",
    "            client.delete_object(Bucket=bucket, Key=src_key)\n",
    "\n",
    "            print(f\"Moved: {src_key} -> {dest_key}\")"
   ]
  },
  {
   "cell_type": "code",
   "execution_count": 99,
   "id": "774196c6-5205-4066-93ee-d0b604798c47",
   "metadata": {},
   "outputs": [
    {
     "name": "stdout",
     "output_type": "stream",
     "text": [
      "Moved: temporal-landing/video_9.mp4 -> persistent-landing/videos/video_1758716388463.mp4\n"
     ]
    }
   ],
   "source": [
    "move_files(s3, \"landing-zone\", \"temporal-landing/\", \"persistent-landing/\")"
   ]
  }
 ],
 "metadata": {
  "kernelspec": {
   "display_name": "Python 3 (ipykernel)",
   "language": "python",
   "name": "python3"
  },
  "language_info": {
   "codemirror_mode": {
    "name": "ipython",
    "version": 3
   },
   "file_extension": ".py",
   "mimetype": "text/x-python",
   "name": "python",
   "nbconvert_exporter": "python",
   "pygments_lexer": "ipython3",
   "version": "3.11.1"
  }
 },
 "nbformat": 4,
 "nbformat_minor": 5
}
